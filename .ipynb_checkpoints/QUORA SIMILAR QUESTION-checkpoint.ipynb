{
 "cells": [
  {
   "cell_type": "markdown",
   "metadata": {},
   "source": [
    "#                     <t/>         Quora Similar Question Pair"
   ]
  },
  {
   "cell_type": "markdown",
   "metadata": {},
   "source": [
    "### <u> Problem Statement: </u>\n",
    "#### There are many people who ask the same questions in quora .<br>So to reduce the time to write again and again the answer to similar question becomes tedious.\n",
    "1.Identify the Questions asked on Quora are the duplicates of the Question already asked. <br>\n",
    "\n",
    "2.Task is to predict whether the question asked are duplicates or not.<br>\n",
    "\n"
   ]
  },
  {
   "cell_type": "markdown",
   "metadata": {},
   "source": [
    "## Constraints\n",
    "\n",
    "1.The cost of misinterpretation can be high. <br>\n",
    "2.There is no strict latency.(ie. we do not need Output in few seconds.)<br>\n",
    "3.Partially Interpretable. (Interpretability means the reason why the machine said yes or no).<br>\n",
    "4.We need a probability of a question pair so that we can choose any threshold.<br>\n",
    "\n"
   ]
  },
  {
   "cell_type": "code",
   "execution_count": 2,
   "metadata": {},
   "outputs": [],
   "source": [
    "import numpy as np\n",
    "import matplotlib.pyplot as plt\n",
    "import pandas as pd"
   ]
  },
  {
   "cell_type": "code",
   "execution_count": null,
   "metadata": {},
   "outputs": [],
   "source": []
  }
 ],
 "metadata": {
  "kernelspec": {
   "display_name": "Python 3",
   "language": "python",
   "name": "python3"
  },
  "language_info": {
   "codemirror_mode": {
    "name": "ipython",
    "version": 3
   },
   "file_extension": ".py",
   "mimetype": "text/x-python",
   "name": "python",
   "nbconvert_exporter": "python",
   "pygments_lexer": "ipython3",
   "version": "3.7.3"
  }
 },
 "nbformat": 4,
 "nbformat_minor": 2
}
